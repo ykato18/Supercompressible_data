{
 "cells": [
  {
   "cell_type": "code",
   "execution_count": 1,
   "id": "162c6e60",
   "metadata": {},
   "outputs": [],
   "source": [
    "import os\n",
    "import pickle\n",
    "import time\n",
    "import shutil\n",
    "from f3dasm.doe.doevars import  DoeVars\n",
    "from f3dasm.simulator.abaqus.utils import create_temp_dir\n",
    "from f3dasm.simulator.abaqus.steps import PreProc, RunJob, PostProc\n",
    "from f3dasm.simulator.abaqus.utils import clean_abaqus_dir"
   ]
  },
  {
   "cell_type": "markdown",
   "id": "8122cca5",
   "metadata": {},
   "source": [
    "### Defining the simulation flow\n",
    "\n",
    "Here, we define a custom simulation, with pre-processing, run, and post-processing steps. In this case all 3 steps are executed with abaqus, but with due to structure of F3DASM any step could easily be replaced with any other software package."
   ]
  },
  {
   "cell_type": "code",
   "execution_count": 2,
   "id": "4eb404b3",
   "metadata": {},
   "outputs": [],
   "source": [
    "class Simulation():\n",
    "    def __init__(self, name, \n",
    "                preproc_script = None, \n",
    "                postproc_script = None,\n",
    "               ): \n",
    "        self.name = name\n",
    "        self.preproc = PreProc(name = name, abq_script =preproc_script)\n",
    "        self.job = RunJob(name)\n",
    "        self.postproc = PostProc(name = name, abq_script = postproc_script)\n",
    "\n",
    "    def write_configs(self, simdir, inputs = None):\n",
    "        self.preproc.write_input_pkl(simdir = simdir, inputs = inputs )\n",
    "        self.job.write_input_pkl(simdir = simdir)\n",
    "        self.postproc.write_input_pkl(simdir = simdir)\n",
    "\n",
    "    def execute(self, simdir, inputs):\n",
    "        self.preproc.execute(simdir = simdir, inputs=inputs)\n",
    "        self.job.execute(simdir = simdir)\n",
    "        self.postproc.execute(simdir = simdir)\n",
    "\n",
    "    def extract_results(self, simdir):\n",
    "        file_name = self.name + '_postproc'\n",
    "        file_name = os.path.join(simdir, file_name)\n",
    "        with open(file_name, 'rb') as file:\n",
    "            data = pickle.load(file, encoding='latin1')\n",
    "        return data"
   ]
  },
  {
   "cell_type": "markdown",
   "id": "656f8351",
   "metadata": {},
   "source": [
    "Helper function extracting results from linear buckling analysis, necessary to define inputs to RIKS"
   ]
  },
  {
   "cell_type": "code",
   "execution_count": 7,
   "id": "d545b613",
   "metadata": {},
   "outputs": [],
   "source": [
    "def get_inputs_riks(inputs, sim_lin_bckl, i_doe_lin_buckle_path):\n",
    "    data_lin_buckle = sim_lin_bckl.extract_results(simdir=i_doe_lin_buckle_path )\n",
    "    inputs_riks = inputs.copy()\n",
    "    inputs_riks['coilable'] = int(data_lin_buckle['post-processing']['coilable'])\n",
    "    inputs_riks['lin_bckl_max_disp'] = data_lin_buckle['post-processing']['max_disps'][1]\n",
    "    inputs_riks['lin_buckle_odb'] = sim_lin_bckl.name\n",
    "    inputs_riks['imperfection'] = 0.001\n",
    "    return inputs_riks"
   ]
  },
  {
   "cell_type": "markdown",
   "id": "1052dfda",
   "metadata": {},
   "source": [
    "# Defining DoE"
   ]
  },
  {
   "cell_type": "code",
   "execution_count": 3,
   "id": "6340d93f",
   "metadata": {},
   "outputs": [
    {
     "name": "stdout",
     "output_type": "stream",
     "text": [
      "DoEVars definition:\n",
      "DoeVars(variables={'ratio_d': 0.006, 'ratio_pitch': [0.75, 0.9], 'ratio_top_diameter': 0.7, 'n_longerons': 3, 'bottom_diameter': 100.0, 'young_modulus': 3500.0, 'shear_modulus': 1287.0}, sampling_vars=[], data=None)\n",
      "\n",
      " DoEVars summary information:\n",
      "-----------------------------------------------------\n",
      "                       DOE VARIABLES                     \n",
      "-----------------------------------------------------\n",
      "ratio_d : 0.006\n",
      "ratio_pitch : [0.75, 0.9]\n",
      "ratio_top_diameter : 0.7\n",
      "n_longerons : 3\n",
      "bottom_diameter : 100.0\n",
      "young_modulus : 3500.0\n",
      "shear_modulus : 1287.0\n",
      "\n",
      "\n",
      "None\n",
      "\n",
      " Pandas dataframe with compbined-sampled values:\n",
      "   ratio_d  ratio_pitch  ratio_top_diameter  n_longerons  bottom_diameter  \\\n",
      "0    0.006         0.75                 0.7          3.0            100.0   \n",
      "1    0.006         0.90                 0.7          3.0            100.0   \n",
      "\n",
      "   young_modulus  shear_modulus  \n",
      "0         3500.0         1287.0  \n",
      "1         3500.0         1287.0  \n"
     ]
    }
   ],
   "source": [
    "vars = {'ratio_d': 0.006, #[0.004, 0.073],\n",
    "        'ratio_pitch': [0.75, 0.9],  #[.25, 1.5],\n",
    "        'ratio_top_diameter': 0.7, #[0., 0.8],\n",
    "            'n_longerons': 3,      \n",
    "            'bottom_diameter': 100.,\n",
    "            'young_modulus': 3500.,\n",
    "            'shear_modulus': 1287.}\n",
    "\n",
    "doe = DoeVars(vars)\n",
    "print('DoEVars definition:')\n",
    "print(doe)\n",
    "\n",
    "print('\\n DoEVars summary information:')\n",
    "print(doe.info())\n",
    "# Compute sampling and combinations\n",
    "doe.do_sampling()\n",
    "\n",
    "print('\\n Pandas dataframe with compbined-sampled values:')\n",
    "print(doe.data)\n",
    "doe_pd = doe.data\n",
    "doe_list = doe_pd.index.values.tolist()"
   ]
  },
  {
   "cell_type": "markdown",
   "id": "deea9170",
   "metadata": {},
   "source": [
    "# Setting up simulations"
   ]
  },
  {
   "cell_type": "code",
   "execution_count": 4,
   "id": "495da69e",
   "metadata": {},
   "outputs": [],
   "source": [
    "sim_lb = Simulation(name = 'linear_buckle', \n",
    "                preproc_script =  'abaqus_modules.supercompressible_fnc.lin_buckle', \n",
    "                postproc_script = 'abaqus_modules.supercompressible_fnc.post_process_lin_buckle'\n",
    "                )\n",
    "\n",
    "sim_riks = Simulation(name = 'riks', \n",
    "                preproc_script =  'abaqus_modules.supercompressible_fnc.riks', \n",
    "                postproc_script = 'abaqus_modules.supercompressible_fnc.post_process_riks'\n",
    "                )\n",
    "sim_riks.job.config['job_info']['numCpus'] = 1\n",
    "sim_lb.job.config['job_info']['numCpus'] = 1"
   ]
  },
  {
   "cell_type": "markdown",
   "id": "24e4d354",
   "metadata": {},
   "source": [
    "##  Create necessary directories"
   ]
  },
  {
   "cell_type": "code",
   "execution_count": 9,
   "id": "f4f68fb8",
   "metadata": {},
   "outputs": [],
   "source": [
    "example_name = 'example_1'\n",
    "\n",
    "if not os.path.exists(example_name):\n",
    "    os.mkdir(example_name)\n",
    "analysis_folder  = os.path.join(example_name, 'analyses')\n",
    "os.mkdir(analysis_folder )\n",
    "\n",
    "\n",
    "temp_dir_name = '_temp'\n",
    "create_temp_dir(temp_dir_name)\n",
    "\n",
    "sim_lb_path = os.path.join(analysis_folder, sim_lb.name )\n",
    "os.mkdir(sim_lb_path)\n",
    "\n",
    "sim_rx_path = os.path.join(analysis_folder, sim_riks.name )\n",
    "os.mkdir(sim_rx_path)"
   ]
  },
  {
   "cell_type": "markdown",
   "id": "14ddd7ca",
   "metadata": {},
   "source": [
    "## Run the simulations"
   ]
  },
  {
   "cell_type": "code",
   "execution_count": 10,
   "id": "70c8915b",
   "metadata": {},
   "outputs": [
    {
     "name": "stdout",
     "output_type": "stream",
     "text": [
      "Linear buckling, Doe  0 complete\n",
      "RIKS, Doe  0 complete\n",
      "Linear buckling, Doe  1 complete\n",
      "RIKS, Doe  1 failed\n",
      "DoE non-coilable\n"
     ]
    }
   ],
   "source": [
    "for i_doe in doe_list:\n",
    "\n",
    "    #LINEAR BUCKLING\n",
    "    i_doe_path = os.path.join(sim_lb_path,  'DoE_point%i' % i_doe)\n",
    "    os.mkdir( i_doe_path)\n",
    "    inputs = doe_pd.iloc[i_doe].to_dict()\n",
    "    inputs['n_longerons'] = int(inputs['n_longerons'])\n",
    "    sim_lb.execute(simdir=i_doe_path, inputs = inputs)\n",
    "\n",
    "    print('Linear buckling, Doe ',i_doe, 'complete' )\n",
    "    #RIKS    \n",
    "    inputs_riks = get_inputs_riks(inputs, sim_lb, i_doe_path)  \n",
    "    if inputs_riks['coilable']: \n",
    "        i_doe_riks = os.path.join(sim_rx_path,  'DoE_point%i' % i_doe)\n",
    "        os.mkdir( i_doe_riks)\n",
    "\n",
    "        #Riks needs access to lin buckle odb file \n",
    "        lb_odb = os.path.join(i_doe_path, sim_lb.name + '.odb')\n",
    "        target = os.path.join(i_doe_riks, sim_lb.name + '.odb')\n",
    "        shutil.copyfile(lb_odb, target, follow_symlinks=True)\n",
    "        while not os.path.exists(target):\n",
    "            print('copying odb')\n",
    "            time.sleep(0.001)\n",
    "\n",
    "        #with odb files we also need to pass prt file, in order \n",
    "        # for odb to recognize the model instance\n",
    "        lb_odb = os.path.join(i_doe_path, sim_lb.name + '.prt')\n",
    "        target = os.path.join(i_doe_riks, sim_lb.name + '.prt')\n",
    "        shutil.copyfile(lb_odb, target, follow_symlinks=True)\n",
    "        while not os.path.exists(target):\n",
    "            print('copying inp')\n",
    "            time.sleep(0.001)\n",
    "\n",
    "\n",
    "        sim_riks.write_configs(simdir = i_doe_riks, inputs = inputs_riks)\n",
    "        sim_riks.execute(simdir = i_doe_riks, inputs = inputs_riks)\n",
    "        print('RIKS, Doe ',i_doe, 'complete' )\n",
    "\n",
    "        riks_data = sim_riks.extract_results(i_doe_riks)\n",
    "\n",
    "    else:\n",
    "        print('RIKS, Doe ',i_doe, 'failed' )\n",
    "        print('DoE non-coilable')\n",
    "        \n",
    "\n",
    "        \n",
    "    clean_abaqus_dir(ext2rem=('.abq', '.com', '.log', '.mdl', '.pac', '.rpy',\n",
    "                                '.sel', '.stt'),\n",
    "                        dir_path=None)"
   ]
  },
  {
   "cell_type": "code",
   "execution_count": null,
   "id": "50b52673",
   "metadata": {},
   "outputs": [],
   "source": []
  }
 ],
 "metadata": {
  "kernelspec": {
   "display_name": "Python 3",
   "language": "python",
   "name": "python3"
  },
  "language_info": {
   "codemirror_mode": {
    "name": "ipython",
    "version": 3
   },
   "file_extension": ".py",
   "mimetype": "text/x-python",
   "name": "python",
   "nbconvert_exporter": "python",
   "pygments_lexer": "ipython3",
   "version": "3.9.6"
  }
 },
 "nbformat": 4,
 "nbformat_minor": 5
}
